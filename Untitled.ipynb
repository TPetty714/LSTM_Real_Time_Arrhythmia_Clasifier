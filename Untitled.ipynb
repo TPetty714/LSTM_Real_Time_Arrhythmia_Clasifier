{
 "cells": [
  {
   "cell_type": "code",
   "execution_count": 1,
   "id": "790094ba",
   "metadata": {},
   "outputs": [],
   "source": [
    "import wfdb\n",
    "import pandas as pd\n",
    "import numpy as np\n",
    "from sklearn.model_selection import train_test_split as Split"
   ]
  },
  {
   "cell_type": "code",
   "execution_count": 2,
   "id": "927ab90d",
   "metadata": {},
   "outputs": [],
   "source": [
    "WINDOW_SIZE = 360\n",
    "PADDING = 360"
   ]
  },
  {
   "cell_type": "code",
   "execution_count": 3,
   "id": "8ba2a546",
   "metadata": {},
   "outputs": [],
   "source": [
    "records = [100, 101, 102, 103, 104, 105, 106, 107, 108, 109, 111, 112, 113, 114, 115, 116, 117, 118, 119, 121, 122, 123, 124,\n",
    "           200, 201, 202, 203, 205, 207, 208, 209, 210, 212, 213, 214, 215, 217, 219, 220, 221, 222, 223, 228, 230, 231, 232, 233, 234]\n"
   ]
  },
  {
   "cell_type": "code",
   "execution_count": 4,
   "id": "1ce02fdd",
   "metadata": {},
   "outputs": [],
   "source": [
    "def create_set(records):\n",
    "    signals, annotations = np.empty(shape=(0,WINDOW_SIZE+PADDING,1)), np.array([])\n",
    "    for rec in records:\n",
    "        record = str(\"./records/\" + str(rec))\n",
    "        rec = wfdb.rdrecord(record)\n",
    "        ann = wfdb.rdann(record_name=record, extension='atr')\n",
    "        sig, fields = wfdb.rdsamp(record_name=record, channel_names=[\"MLII\"])\n",
    "        if sig is not None:\n",
    "            for location, annotation in zip(ann.sample, ann.symbol):\n",
    "                half_window_with_padding = int((WINDOW_SIZE + PADDING) / 2)\n",
    "                if location >= half_window_with_padding and location <= len(sig)-half_window_with_padding:\n",
    "                    signal = sig[(location-half_window_with_padding):(location+half_window_with_padding)]\n",
    "                    signals = np.append(signals, [signal], axis=0)\n",
    "                    annotations = np.append(annotations, annotation)\n",
    "    print(signals.shape, annotations.shape)\n",
    "    return signals, annotations"
   ]
  },
  {
   "cell_type": "code",
   "execution_count": 5,
   "id": "f65e8805",
   "metadata": {},
   "outputs": [],
   "source": [
    "def create_dataframe(signals, annotations):\n",
    "    dfs = pd.DataFrame(signals.reshape(signals.shape[0], signals.shape[1]), index=np.arange(signals.shape[0]))\n",
    "    dfa = pd.DataFrame(annotations, index=np.arange(signals.shape[0]))\n",
    "    df = pd.concat([dfa, dfs], axis=1)\n",
    "    return df"
   ]
  },
  {
   "cell_type": "code",
   "execution_count": 6,
   "id": "ea1b068e",
   "metadata": {},
   "outputs": [],
   "source": [
    "training_set, testing_set = Split(records)"
   ]
  },
  {
   "cell_type": "code",
   "execution_count": 7,
   "id": "d6eb9205",
   "metadata": {},
   "outputs": [],
   "source": [
    "training_set, validation_set = Split(training_set)"
   ]
  },
  {
   "cell_type": "code",
   "execution_count": 8,
   "id": "37a256d9",
   "metadata": {},
   "outputs": [
    {
     "name": "stdout",
     "output_type": "stream",
     "text": [
      "Training: [123, 207, 108, 228, 222, 121, 234, 210, 117, 102, 232, 200, 233, 231, 101, 100, 115, 215, 113, 214, 217, 124, 103, 118, 122, 209, 119] \n",
      "Validating: [203, 202, 212, 109, 230, 111, 104, 219, 112] \n",
      "Testing: [213, 114, 221, 223, 107, 106, 116, 208, 105, 201, 220, 205]\n"
     ]
    }
   ],
   "source": [
    "print(\"Training:\", training_set, \"\\nValidating:\", validation_set, \"\\nTesting:\", testing_set)"
   ]
  },
  {
   "cell_type": "code",
   "execution_count": 22,
   "id": "7957b16f",
   "metadata": {},
   "outputs": [
    {
     "name": "stdout",
     "output_type": "stream",
     "text": [
      "(60856, 720, 1) (60856,)\n"
     ]
    }
   ],
   "source": [
    "signals, annotations = create_set(training_set)\n",
    "df = create_dataframe(signals, annotations)\n",
    "df.to_csv(\"training.csv\")"
   ]
  },
  {
   "cell_type": "code",
   "execution_count": 23,
   "id": "693ac6ac",
   "metadata": {},
   "outputs": [
    {
     "name": "stdout",
     "output_type": "stream",
     "text": [
      "(21047, 720, 1) (21047,)\n"
     ]
    }
   ],
   "source": [
    "signals, annotations = create_set(validation_set)\n",
    "df = create_dataframe(signals, annotations)\n",
    "df.to_csv(\"validation.csv\")"
   ]
  },
  {
   "cell_type": "code",
   "execution_count": 24,
   "id": "3c9f85d5",
   "metadata": {},
   "outputs": [
    {
     "name": "stdout",
     "output_type": "stream",
     "text": [
      "(26078, 720, 1) (26078,)\n"
     ]
    }
   ],
   "source": [
    "signals, annotations = create_set(testing_set)\n",
    "df = create_dataframe(signals, annotations)\n",
    "df.to_csv(\"testing.csv\")"
   ]
  },
  {
   "cell_type": "code",
   "execution_count": 9,
   "id": "bb361245",
   "metadata": {},
   "outputs": [
    {
     "name": "stdout",
     "output_type": "stream",
     "text": [
      "(107981, 720, 1) (107981,)\n"
     ]
    }
   ],
   "source": [
    "signals, annotations = create_set(records)\n",
    "df = create_dataframe(signals, annotations)\n",
    "df.to_csv(\"records.csv\")"
   ]
  },
  {
   "cell_type": "code",
   "execution_count": 14,
   "id": "1000127c",
   "metadata": {},
   "outputs": [],
   "source": [
    "training_set, testing_set = Split(df, stratify=df.iloc[:,0])"
   ]
  },
  {
   "cell_type": "code",
   "execution_count": 16,
   "id": "61cc795a",
   "metadata": {},
   "outputs": [],
   "source": [
    "training_set, validation_set = Split(training_set, stratify=training_set.iloc[:,0])"
   ]
  },
  {
   "cell_type": "code",
   "execution_count": 18,
   "id": "50c0209c",
   "metadata": {},
   "outputs": [],
   "source": [
    "training_set.to_csv(\"training_by_classes.csv\")\n",
    "validation_set.to_csv(\"validating_by_classes.csv\")\n",
    "testing_set.to_csv(\"testing_by_classes.csv\")"
   ]
  },
  {
   "cell_type": "code",
   "execution_count": null,
   "id": "3665240e",
   "metadata": {
    "scrolled": true
   },
   "outputs": [],
   "source": [
    "# plt.plot(filtered[WINDOW_SIZE-int(PADDING/2):WINDOW_SIZE+int(PADDING/2)])\n",
    "b, a = scipy.signal.butter(3, [0.03, 0.13], \"band\")\n",
    "filtered2 = scipy.signal.filtfilt(b, a, df.iloc[0,1:].to_numpy().flatten())\n",
    "plt.plot(filtered2[WINDOW_SIZE-int(PADDING/2):WINDOW_SIZE+int(PADDING/2)], label='filtered')\n",
    "plt.plot(np.arange(360), df.iloc[0,WINDOW_SIZE-int(PADDING/2):WINDOW_SIZE+int(PADDING/2)], label='raw')\n",
    "plt.legend()\n",
    "plt.show()\n",
    "print(df.iloc[0,0])"
   ]
  },
  {
   "cell_type": "markdown",
   "id": "343839da",
   "metadata": {},
   "source": [
    "## "
   ]
  }
 ],
 "metadata": {
  "kernelspec": {
   "display_name": "Python 3",
   "language": "python",
   "name": "python3"
  },
  "language_info": {
   "codemirror_mode": {
    "name": "ipython",
    "version": 3
   },
   "file_extension": ".py",
   "mimetype": "text/x-python",
   "name": "python",
   "nbconvert_exporter": "python",
   "pygments_lexer": "ipython3",
   "version": "3.8.9"
  }
 },
 "nbformat": 4,
 "nbformat_minor": 5
}
