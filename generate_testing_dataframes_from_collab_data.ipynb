{
 "cells": [
  {
   "cell_type": "code",
   "execution_count": 1,
   "id": "032ad11c",
   "metadata": {},
   "outputs": [],
   "source": [
    "import wfdb\n",
    "import pandas as pd\n",
    "import numpy as np\n",
    "import matplotlib.pyplot as plt\n",
    "from sklearn.model_selection import train_test_split as Split\n",
    "from sklearn.preprocessing import normalize\n",
    "from wfdb import processing"
   ]
  },
  {
   "cell_type": "code",
   "execution_count": 2,
   "id": "8c1f0c35",
   "metadata": {},
   "outputs": [],
   "source": [
    "FREQUENCY = 1300\n",
    "WINDOW_SIZE = 360\n",
    "PADDING = 360\n",
    "%matplotlib tk"
   ]
  },
  {
   "cell_type": "code",
   "execution_count": 3,
   "id": "6836e654",
   "metadata": {},
   "outputs": [],
   "source": [
    "def create_set(records):\n",
    "    print(FREQUENCY)\n",
    "    signals = np.empty(shape=(0,WINDOW_SIZE+PADDING,1))\n",
    "    df = pd.read_csv(records)\n",
    "    sig = df['Column4'].to_numpy()\n",
    "#     plt.plot(sig)\n",
    "    print(sig.shape)\n",
    "    print(df.head())\n",
    "#     sig = sig[::round(FREQUENCY/360)]\n",
    "    time = pd.timedelta_range(0, periods=len(sig), freq=f\"{(1 / FREQUENCY):.8f}S\")\n",
    "    df = pd.DataFrame(index=time, data={'signal': sig})\n",
    "    dft = df.resample(f'{1 / 360:.8f}S').sum()  # resample frequency to 360hz\n",
    "    sig = dft['signal'].values\n",
    "    print(sig.shape)\n",
    "    print(df.head())\n",
    "    qrs_inds = find_peaks(sig, 360)\n",
    "    df = df.resample(f'{1 / 360:.8f}S').mean()  # resample frequency to 360hz\n",
    "    sig = df['signal'].values\n",
    "#     plt.plot(sig)\n",
    "#     plt.show()\n",
    "    print(qrs_inds.size)\n",
    "    for location in qrs_inds:\n",
    "        half_window_with_padding = int((WINDOW_SIZE + PADDING) / 2)\n",
    "        if location >= half_window_with_padding and location <= len(sig)-half_window_with_padding:\n",
    "            signal = sig[(location-half_window_with_padding):(location+half_window_with_padding)].reshape(1, WINDOW_SIZE+PADDING, 1)\n",
    "            signals = np.append(signals, signal, axis=0)\n",
    "    print(signals.shape)\n",
    "    return signals"
   ]
  },
  {
   "cell_type": "code",
   "execution_count": 4,
   "id": "d68a58b5",
   "metadata": {},
   "outputs": [],
   "source": [
    "def find_peaks(sig, fs):\n",
    "\txqrs = processing.XQRS(sig=sig, fs=fs)\n",
    "\tqrs_inds = processing.xqrs_detect(sig=sig, fs=fs)\n",
    "\txqrs.detect()\n",
    "# \twfdb.plot_items(signal=sig, ann_samp=[qrs_inds])\n",
    "\treturn qrs_inds"
   ]
  },
  {
   "cell_type": "code",
   "execution_count": 6,
   "id": "1fdc771e",
   "metadata": {},
   "outputs": [
    {
     "name": "stdout",
     "output_type": "stream",
     "text": [
      "1300\n",
      "(81108,)\n",
      "  Column1  Column2 Column3  Column4\n",
      "0    TIME     1.52     ECG      409\n",
      "1    TIME     2.17     ECG      410\n",
      "2    TIME     2.82     ECG      406\n",
      "3    TIME     3.48     ECG      406\n",
      "4    TIME     4.14     ECG      401\n",
      "(22461,)\n",
      "                           signal\n",
      "0 days 00:00:00               409\n",
      "0 days 00:00:00.000769230     410\n",
      "0 days 00:00:00.001538460     406\n",
      "0 days 00:00:00.002307690     406\n",
      "0 days 00:00:00.003076920     401\n",
      "Learning initial signal parameters...\n",
      "Found 8 beats during learning. Initializing using learned parameters\n",
      "Running QRS detection...\n",
      "QRS detection complete.\n",
      "Learning initial signal parameters...\n",
      "Found 8 beats during learning. Initializing using learned parameters\n",
      "Running QRS detection...\n",
      "QRS detection complete.\n",
      "95\n",
      "(91, 720, 1)\n"
     ]
    }
   ],
   "source": [
    "# FREQUENCY = 360\n",
    "# signals = create_set('Kemal 360 Hz ECG DATA +5-5HZ.csv')\n",
    "# FREQUENCY = 500\n",
    "# signals = create_set('ECG KEMAL 500HZ.csv')\n",
    "FREQUENCY = 1300\n",
    "signals = create_set('Kemal ECG 2 1300HZ.csv')"
   ]
  },
  {
   "cell_type": "code",
   "execution_count": null,
   "id": "19e7d3a7",
   "metadata": {},
   "outputs": [],
   "source": [
    "print(signals.shape)\n",
    "plt.plot(signals[1].flatten()[WINDOW_SIZE-int(WINDOW_SIZE/2):WINDOW_SIZE+int(WINDOW_SIZE/2)])\n",
    "plt.show()"
   ]
  },
  {
   "cell_type": "code",
   "execution_count": null,
   "id": "c54d6f55",
   "metadata": {},
   "outputs": [],
   "source": [
    "def create_dataframe(signals):\n",
    "    dfs = pd.DataFrame(signals.reshape(signals.shape[0], signals.shape[1]), index=np.arange(signals.shape[0]))\n",
    "#     df = pd.concat([dfa, dfs], axis=1)\n",
    "    return dfs"
   ]
  },
  {
   "cell_type": "code",
   "execution_count": null,
   "id": "1f2b23e9",
   "metadata": {},
   "outputs": [],
   "source": [
    "df = create_dataframe(signals)\n",
    "df.head"
   ]
  },
  {
   "cell_type": "code",
   "execution_count": null,
   "id": "82d02100",
   "metadata": {},
   "outputs": [],
   "source": [
    "df.to_csv('collab_1300hz_data.csv')"
   ]
  },
  {
   "cell_type": "code",
   "execution_count": null,
   "id": "56d4e708",
   "metadata": {},
   "outputs": [],
   "source": []
  }
 ],
 "metadata": {
  "kernelspec": {
   "display_name": "Python 3",
   "language": "python",
   "name": "python3"
  },
  "language_info": {
   "codemirror_mode": {
    "name": "ipython",
    "version": 3
   },
   "file_extension": ".py",
   "mimetype": "text/x-python",
   "name": "python",
   "nbconvert_exporter": "python",
   "pygments_lexer": "ipython3",
   "version": "3.8.9"
  }
 },
 "nbformat": 4,
 "nbformat_minor": 5
}
