{
 "cells": [
  {
   "cell_type": "code",
   "execution_count": 1,
   "id": "790094ba",
   "metadata": {},
   "outputs": [],
   "source": [
    "import wfdb\n",
    "import pandas as pd\n",
    "import numpy as np\n",
    "import matplotlib.pyplot as plt\n",
    "from sklearn.model_selection import train_test_split as Split\n",
    "from sklearn.preprocessing import normalize\n",
    "import scipy.signal"
   ]
  },
  {
   "cell_type": "code",
   "execution_count": 2,
   "id": "927ab90d",
   "metadata": {},
   "outputs": [],
   "source": [
    "WINDOW_SIZE = 360\n",
    "PADDING = 360"
   ]
  },
  {
   "cell_type": "code",
   "execution_count": 3,
   "id": "8ba2a546",
   "metadata": {},
   "outputs": [],
   "source": [
    "records = [100, 101, 102, 103, 104, 105, 106, 107, 108, 109, 111, 112, 113, 114, 115, 116, 117, 118, 119, 121, 122, 123, 124,\n",
    "           200, 201, 202, 203, 205, 207, 208, 209, 210, 212, 213, 214, 215, 217, 219, 220, 221, 222, 223, 228, 230, 231, 232, 233, 234]\n"
   ]
  },
  {
   "cell_type": "code",
   "execution_count": 4,
   "id": "1ce02fdd",
   "metadata": {},
   "outputs": [],
   "source": [
    "def create_set(records):\n",
    "    # signals, annotations = np.empty(shape=(0, WINDOW_SIZE + PADDING, 1)), np.array([])\n",
    "    signals = []\n",
    "    annotations = []\n",
    "    for rec in records:\n",
    "#         print(f'Record: {rec}')\n",
    "        record = str(\"./records/\" + str(rec))\n",
    "        rec = wfdb.rdrecord(record)\n",
    "        ann = vars(wfdb.rdann(record_name=record, extension='atr'))\n",
    "        sig, fields = wfdb.rdsamp(record_name=record, channel_names=[\"MLII\"])\n",
    "        if sig is not None:\n",
    "            for i in range(int(ann['ann_len'])):\n",
    "\n",
    "                location = int(ann['sample'][i])\n",
    "                annotation = ann['symbol'][i]\n",
    "                half_window_with_padding = int((WINDOW_SIZE + PADDING) / 2)\n",
    "\n",
    "                if half_window_with_padding <= location <= len(sig) - half_window_with_padding:\n",
    "                    signal = sig[(location - half_window_with_padding):(location + half_window_with_padding)]\n",
    "                    signals.append(signal) # = np.append(signals, [signal], axis=0)\n",
    "                    annotations.append(annotation) # = np.append(annotations, annotation)\n",
    "\n",
    "    signals = np.array(signals).reshape(-1, WINDOW_SIZE + PADDING, 1)\n",
    "    annotations = np.array(annotations).reshape(-1, 1)\n",
    "\n",
    "    print(signals.shape, annotations.shape)\n",
    "    return signals, annotations"
   ]
  },
  {
   "cell_type": "code",
   "execution_count": 5,
   "id": "f65e8805",
   "metadata": {},
   "outputs": [],
   "source": [
    "def create_dataframe(signals, annotations):\n",
    "    dfs = pd.DataFrame(signals.reshape(signals.shape[0], signals.shape[1]), index=np.arange(signals.shape[0]))\n",
    "    dfa = pd.DataFrame(annotations, index=np.arange(signals.shape[0]))\n",
    "    df = pd.concat([dfa, dfs], axis=1)\n",
    "    return df"
   ]
  },
  {
   "cell_type": "code",
   "execution_count": 6,
   "id": "ea1b068e",
   "metadata": {},
   "outputs": [],
   "source": [
    "training_set, testing_set = Split(records)"
   ]
  },
  {
   "cell_type": "code",
   "execution_count": 7,
   "id": "d6eb9205",
   "metadata": {},
   "outputs": [],
   "source": [
    "training_set, validation_set = Split(training_set)"
   ]
  },
  {
   "cell_type": "code",
   "execution_count": 8,
   "id": "37a256d9",
   "metadata": {},
   "outputs": [
    {
     "name": "stdout",
     "output_type": "stream",
     "text": [
      "Training: [215, 223, 210, 113, 116, 122, 209, 232, 201, 103, 115, 119, 219, 100, 118, 112, 231, 233, 106, 230, 207, 200, 213, 121, 220, 228, 105] \n",
      "Validating: [222, 111, 102, 104, 217, 214, 234, 107, 108] \n",
      "Testing: [208, 221, 205, 202, 101, 109, 212, 124, 117, 203, 114, 123]\n"
     ]
    }
   ],
   "source": [
    "print(\"Training:\", training_set, \"\\nValidating:\", validation_set, \"\\nTesting:\", testing_set)"
   ]
  },
  {
   "cell_type": "code",
   "execution_count": 9,
   "id": "7957b16f",
   "metadata": {},
   "outputs": [
    {
     "name": "stdout",
     "output_type": "stream",
     "text": [
      "(64792, 720, 1) (64792, 1)\n"
     ]
    }
   ],
   "source": [
    "signals, annotations = create_set(training_set)\n",
    "df = create_dataframe(signals, annotations)\n",
    "df.to_csv(\"training.csv\")"
   ]
  },
  {
   "cell_type": "code",
   "execution_count": 10,
   "id": "693ac6ac",
   "metadata": {},
   "outputs": [
    {
     "name": "stdout",
     "output_type": "stream",
     "text": [
      "(16049, 720, 1) (16049, 1)\n"
     ]
    }
   ],
   "source": [
    "signals, annotations = create_set(validation_set)\n",
    "df = create_dataframe(signals, annotations)\n",
    "df.to_csv(\"validation.csv\")"
   ]
  },
  {
   "cell_type": "code",
   "execution_count": 11,
   "id": "3c9f85d5",
   "metadata": {},
   "outputs": [
    {
     "name": "stdout",
     "output_type": "stream",
     "text": [
      "(27140, 720, 1) (27140, 1)\n"
     ]
    }
   ],
   "source": [
    "signals, annotations = create_set(testing_set)\n",
    "df = create_dataframe(signals, annotations)\n",
    "df.to_csv(\"testing.csv\")"
   ]
  },
  {
   "cell_type": "code",
   "execution_count": 12,
   "id": "bb361245",
   "metadata": {},
   "outputs": [
    {
     "name": "stdout",
     "output_type": "stream",
     "text": [
      "(107981, 720, 1) (107981, 1)\n"
     ]
    }
   ],
   "source": [
    "signals, annotations = create_set(records)\n",
    "df = create_dataframe(signals, annotations)\n",
    "df.to_csv(\"records.csv\")"
   ]
  },
  {
   "cell_type": "code",
   "execution_count": 13,
   "id": "1000127c",
   "metadata": {},
   "outputs": [],
   "source": [
    "training_set, testing_set = Split(df, stratify=df.iloc[:,0])"
   ]
  },
  {
   "cell_type": "code",
   "execution_count": 14,
   "id": "61cc795a",
   "metadata": {},
   "outputs": [],
   "source": [
    "training_set, validation_set = Split(training_set, stratify=training_set.iloc[:,0])"
   ]
  },
  {
   "cell_type": "code",
   "execution_count": 16,
   "id": "d2046530",
   "metadata": {},
   "outputs": [],
   "source": [
    "df = pd.read_csv('records.csv')"
   ]
  },
  {
   "cell_type": "code",
   "execution_count": 17,
   "id": "60d1f0ba",
   "metadata": {},
   "outputs": [
    {
     "name": "stdout",
     "output_type": "stream",
     "text": [
      "107981\n",
      "N 74703 0.692\n",
      "L 8066 0.075\n",
      "R 7251 0.067\n",
      "V 7120 0.066\n",
      "/ 3615 0.033\n",
      "A 2545 0.024\n",
      "+ 1195 0.011\n",
      "F 802 0.007\n",
      "~ 577 0.005\n",
      "! 472 0.004\n",
      "\" 437 0.004\n",
      "f 260 0.002\n",
      "j 229 0.002\n",
      "x 193 0.002\n",
      "a 150 0.001\n",
      "| 132 0.001\n",
      "E 106 0.001\n",
      "J 83 0.001\n",
      "e 16 0.0\n",
      "Q 15 0.0\n",
      "[ 6 0.0\n",
      "] 6 0.0\n",
      "S 2 0.0\n"
     ]
    }
   ],
   "source": [
    "li = df.iloc[:,1].value_counts()\n",
    "s = sum(li)\n",
    "print(s)\n",
    "for l in li.items():\n",
    "    print(l[0], l[1], round(l[1]/s, 3))"
   ]
  },
  {
   "cell_type": "code",
   "execution_count": 18,
   "id": "2ef8ddbe",
   "metadata": {},
   "outputs": [
    {
     "data": {
      "text/plain": [
       "array([-0.145, -0.15, -0.16, -0.155, -0.16, -0.175, -0.18, -0.185, -0.17,\n",
       "       -0.155, -0.175, -0.18, -0.19, -0.18, -0.155, -0.135, -0.155, -0.19,\n",
       "       -0.205, -0.235, -0.225, -0.245, -0.25, -0.26, -0.275, -0.275,\n",
       "       -0.275, -0.265, -0.255, -0.265, -0.275, -0.29, -0.29, -0.29, -0.29,\n",
       "       -0.285, -0.295, -0.305, -0.285, -0.275, -0.275, -0.28, -0.285,\n",
       "       -0.305, -0.29, -0.3, -0.28, -0.29, -0.3, -0.315, -0.32, -0.335,\n",
       "       -0.36, -0.385, -0.385, -0.405, -0.455, -0.485, -0.485, -0.425,\n",
       "       -0.33, -0.22, -0.07, 0.12, 0.375, 0.62, 0.78, 0.84, 0.765, 0.52,\n",
       "       0.17, -0.165, -0.365, -0.435, -0.425, -0.37, -0.33, -0.325, -0.335,\n",
       "       -0.345, -0.33, -0.325, -0.315, -0.31, -0.32, -0.335, -0.34, -0.325,\n",
       "       -0.345, -0.335, -0.33, -0.335, -0.33, -0.325, -0.33, -0.33, -0.345,\n",
       "       -0.355, -0.335, -0.325, -0.305, -0.32, -0.32, -0.33, -0.34, -0.335,\n",
       "       -0.34, -0.345, -0.355, -0.355, -0.34, -0.33, -0.33, -0.33, -0.34,\n",
       "       -0.35, -0.325, -0.325, -0.33, -0.33, -0.335, -0.335, -0.34, -0.33,\n",
       "       -0.34, -0.35, -0.355, -0.35, -0.345, -0.33, -0.32, -0.335, -0.33,\n",
       "       -0.345, -0.33, -0.335, -0.335, -0.345, -0.345, -0.355, -0.34,\n",
       "       -0.34, -0.335, -0.33, -0.35, -0.35, -0.345, -0.335, -0.335, -0.335,\n",
       "       -0.35, -0.355, -0.355, -0.345, -0.345, -0.335, -0.35, -0.36, -0.36,\n",
       "       -0.36, -0.365, -0.36, -0.37, -0.385, -0.37, -0.36, -0.355, -0.36,\n",
       "       -0.375, -0.375, -0.365, -0.365, -0.36, -0.36, -0.365, -0.37,\n",
       "       -0.355, -0.33, -0.325, -0.325, -0.335, -0.34, -0.315, -0.3, -0.3,\n",
       "       -0.29, -0.295, -0.29, -0.285, -0.275, -0.255, -0.25, -0.25, -0.265,\n",
       "       -0.255, -0.245, -0.23, -0.245, -0.245, -0.255, -0.255, -0.24,\n",
       "       -0.25, -0.255, -0.245, -0.255, -0.25, -0.25, -0.265, -0.26, -0.26,\n",
       "       -0.265, -0.27, -0.265, -0.26, -0.275, -0.28, -0.29, -0.275, -0.27,\n",
       "       -0.26, -0.28, -0.28, -0.285, -0.275, -0.275, -0.265, -0.27, -0.285,\n",
       "       -0.29, -0.28, -0.275, -0.285, -0.28, -0.3, -0.3, -0.305, -0.295,\n",
       "       -0.3, -0.31, -0.31, -0.305, -0.295, -0.285, -0.285, -0.29, -0.295,\n",
       "       -0.31, -0.29, -0.295, -0.3, -0.305, -0.31, -0.325, -0.31, -0.3,\n",
       "       -0.29, -0.31, -0.325, -0.33, -0.315, -0.3, -0.305, -0.31, -0.32,\n",
       "       -0.33, -0.325, -0.315, -0.31, -0.305, -0.305, -0.31, -0.3, -0.305,\n",
       "       -0.29, -0.3, -0.3, -0.305, -0.305, -0.29, -0.28, -0.295, -0.305,\n",
       "       -0.315, -0.305, -0.295, -0.29, -0.28, -0.27, -0.275, -0.275, -0.27,\n",
       "       -0.25, -0.25, -0.255, -0.225, -0.22, -0.205, -0.2, -0.205, -0.215,\n",
       "       -0.23, -0.22, -0.225, -0.225, -0.225, -0.23, -0.235, -0.24, -0.235,\n",
       "       -0.22, -0.21, -0.205, -0.245, -0.285, -0.285, -0.3, -0.31, -0.33,\n",
       "       -0.33, -0.325, -0.315, -0.32, -0.315, -0.325, -0.34, -0.345, -0.34,\n",
       "       -0.34, -0.35, -0.345, -0.355, -0.33, -0.335, -0.33, -0.32, -0.345,\n",
       "       -0.355, -0.34, -0.33, -0.325, -0.33, -0.35, -0.365, -0.36, -0.38,\n",
       "       -0.425, -0.445, -0.475, -0.51, -0.535, -0.505, -0.415, -0.3, -0.16,\n",
       "       -0.015, 0.235, 0.49, 0.72, 0.875, 0.94, 0.905, 0.755, 0.49, 0.165,\n",
       "       -0.11, -0.27, -0.39, -0.45, -0.475, -0.455, -0.425, -0.39, -0.39,\n",
       "       -0.385, -0.39, -0.38, -0.38, -0.38, -0.395, -0.385, -0.385, -0.385,\n",
       "       -0.375, -0.395, -0.41, -0.41, -0.4, -0.395, -0.39, -0.405, -0.395,\n",
       "       -0.385, -0.375, -0.39, -0.39, -0.405, -0.41, -0.41, -0.39, -0.39,\n",
       "       -0.395, -0.405, -0.415, -0.4, -0.41, -0.405, -0.41, -0.415, -0.41,\n",
       "       -0.4, -0.4, -0.395, -0.39, -0.405, -0.41, -0.39, -0.39, -0.385,\n",
       "       -0.385, -0.41, -0.405, -0.395, -0.39, -0.375, -0.39, -0.395, -0.41,\n",
       "       -0.4, -0.39, -0.39, -0.385, -0.405, -0.415, -0.415, -0.4, -0.395,\n",
       "       -0.405, -0.415, -0.42, -0.42, -0.41, -0.415, -0.425, -0.42, -0.435,\n",
       "       -0.43, -0.43, -0.42, -0.43, -0.45, -0.455, -0.45, -0.435, -0.445,\n",
       "       -0.45, -0.455, -0.47, -0.46, -0.455, -0.45, -0.455, -0.47, -0.475,\n",
       "       -0.46, -0.45, -0.445, -0.44, -0.435, -0.44, -0.41, -0.395, -0.37,\n",
       "       -0.365, -0.36, -0.365, -0.34, -0.325, -0.315, -0.32, -0.33, -0.33,\n",
       "       -0.32, -0.31, -0.3, -0.3, -0.32, -0.32, -0.315, -0.305, -0.305,\n",
       "       -0.295, -0.32, -0.33, -0.305, -0.31, -0.3, -0.3, -0.32, -0.325,\n",
       "       -0.31, -0.305, -0.315, -0.305, -0.315, -0.315, -0.31, -0.295,\n",
       "       -0.29, -0.305, -0.31, -0.32, -0.315, -0.3, -0.315, -0.315, -0.315,\n",
       "       -0.33, -0.315, -0.32, -0.315, -0.325, -0.335, -0.34, -0.335,\n",
       "       -0.335, -0.33, -0.325, -0.345, -0.35, -0.345, -0.335, -0.33, -0.33,\n",
       "       -0.345, -0.345, -0.345, -0.32, -0.33, -0.335, -0.34, -0.355,\n",
       "       -0.335, -0.33, -0.33, -0.335, -0.355, -0.36, -0.355, -0.35, -0.34,\n",
       "       -0.345, -0.345, -0.345, -0.345, -0.33, -0.33, -0.335, -0.345,\n",
       "       -0.35, -0.35, -0.34, -0.33, -0.345, -0.345, -0.355, -0.35, -0.34,\n",
       "       -0.33, -0.34, -0.34, -0.34, -0.33, -0.335, -0.33, -0.335, -0.345,\n",
       "       -0.345, -0.34, -0.33, -0.315, -0.295, -0.3, -0.295, -0.285, -0.275,\n",
       "       -0.265, -0.265, -0.265, -0.255, -0.25, -0.24, -0.225, -0.215,\n",
       "       -0.24, -0.245, -0.24, -0.245, -0.235, -0.245, -0.25, -0.275,\n",
       "       -0.275, -0.265, -0.25, -0.225, -0.22, -0.23, -0.265, -0.27, -0.28,\n",
       "       -0.285, -0.305, -0.32, -0.34, -0.33, -0.335, -0.335, -0.355, -0.37,\n",
       "       -0.36, -0.345, -0.35, -0.355, -0.365, -0.375, -0.38, -0.37, -0.365,\n",
       "       -0.365, -0.38, -0.385, -0.38, -0.375, -0.355, -0.37, -0.39, -0.405,\n",
       "       -0.41, -0.435, -0.465, -0.49, -0.52, -0.555, -0.57, -0.525, -0.405,\n",
       "       -0.25, -0.09, 0.12, 0.41, 0.69, 0.885, 0.96, 0.85, 0.52, 0.05,\n",
       "       -0.32, -0.5, -0.505, -0.445, -0.415, -0.395, -0.39, -0.395, -0.39,\n",
       "       -0.395, -0.405, -0.395, -0.405, -0.39, -0.395, -0.395, -0.41,\n",
       "       -0.405, -0.4, -0.4, -0.415, -0.405, -0.42, -0.415, -0.405, -0.405,\n",
       "       -0.42, -0.42, -0.435, -0.42, -0.41, -0.41, -0.405, -0.425, -0.43,\n",
       "       -0.42, -0.415, -0.41, -0.41, -0.425, -0.42, -0.4, -0.395, -0.4,\n",
       "       -0.4, -0.395, -0.415, -0.405, -0.39, -0.4, -0.4, -0.415, -0.425,\n",
       "       -0.425, -0.415, -0.415, -0.41, -0.425, -0.425, -0.42, -0.415, -0.4,\n",
       "       -0.4], dtype=object)"
      ]
     },
     "execution_count": 18,
     "metadata": {},
     "output_type": "execute_result"
    }
   ],
   "source": [
    "df.iloc[0,2:].to_numpy().flatten()"
   ]
  },
  {
   "cell_type": "code",
   "execution_count": 19,
   "id": "3665240e",
   "metadata": {
    "scrolled": true
   },
   "outputs": [],
   "source": [
    "# plt.plot(filtered[WINDOW_SIZE-int(PADDING/2):WINDOW_SIZE+int(PADDING/2)])\n",
    "%matplotlib tk\n",
    "window = df.iloc[0, WINDOW_SIZE-int(PADDING/2):WINDOW_SIZE+int(PADDING/2)]\n",
    "b, a = scipy.signal.butter(3, [0.03, 0.13], \"band\")\n",
    "filtered = scipy.signal.filtfilt(b, a, window.to_numpy().flatten())\n",
    "plt.plot(np.arange(360), window, label='Original')\n",
    "plt.plot(np.arange(360), filtered, label='Filtered')\n",
    "plt.xlabel('Samples')\n",
    "plt.ylabel('mV')\n",
    "plt.legend()\n",
    "plt.show()"
   ]
  },
  {
   "cell_type": "markdown",
   "id": "343839da",
   "metadata": {},
   "source": [
    "## "
   ]
  }
 ],
 "metadata": {
  "kernelspec": {
   "display_name": "Python 3",
   "language": "python",
   "name": "python3"
  },
  "language_info": {
   "codemirror_mode": {
    "name": "ipython",
    "version": 3
   },
   "file_extension": ".py",
   "mimetype": "text/x-python",
   "name": "python",
   "nbconvert_exporter": "python",
   "pygments_lexer": "ipython3",
   "version": "3.8.9"
  }
 },
 "nbformat": 4,
 "nbformat_minor": 5
}
