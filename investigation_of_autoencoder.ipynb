{
 "cells": [
  {
   "cell_type": "code",
   "execution_count": 1,
   "id": "f03c26db",
   "metadata": {},
   "outputs": [],
   "source": [
    "import tensorflow as tf\n",
    "from tensorflow import keras\n",
    "import pandas as pd\n",
    "import numpy as np\n",
    "import matplotlib.pyplot as plt"
   ]
  },
  {
   "cell_type": "code",
   "execution_count": 2,
   "id": "27ea4697",
   "metadata": {},
   "outputs": [],
   "source": [
    "EPOCHS = 1\n",
    "WINDOW_SIZE = 360"
   ]
  },
  {
   "cell_type": "code",
   "execution_count": 46,
   "id": "0ee30adc",
   "metadata": {},
   "outputs": [],
   "source": [
    "def generate_data(filename):\n",
    "    df = pd.read_csv(filename)\n",
    "    if filename == \"training_by_classes.csv\" or filename == \"validating_by_classes.csv\":\n",
    "        df = df[df.iloc[:,1]=='N']\n",
    "#         print(df.head())\n",
    "#     print(df.shape)\n",
    "    for _ in range(EPOCHS):\n",
    "        for row in range(len(df)):\n",
    "    #         print(row)\n",
    "            X = df.iloc[row, WINDOW_SIZE-int(WINDOW_SIZE/2):WINDOW_SIZE+int(WINDOW_SIZE/2)]\n",
    "            X = X.to_numpy().reshape(1, 360, 1).astype('float32')\n",
    "    #         print(X)\n",
    "            if filename == \"testing_by_classes.csv\":\n",
    "                yield(X, df.iloc[row, 1])\n",
    "            else:\n",
    "                yield(X, X)"
   ]
  },
  {
   "cell_type": "code",
   "execution_count": 36,
   "id": "21f2a8a0",
   "metadata": {},
   "outputs": [
    {
     "name": "stdout",
     "output_type": "stream",
     "text": [
      "Model: \"encoder\"\n",
      "_________________________________________________________________\n",
      "Layer (type)                 Output Shape              Param #   \n",
      "=================================================================\n",
      "input (InputLayer)           [(None, 360, 1)]          0         \n",
      "_________________________________________________________________\n",
      "dense_15 (Dense)             (None, 360, 360)          720       \n",
      "_________________________________________________________________\n",
      "lstm_48 (LSTM)               (None, 60)                101040    \n",
      "_________________________________________________________________\n",
      "reshape_21 (Reshape)         (None, 60, 1)             0         \n",
      "=================================================================\n",
      "Total params: 101,760\n",
      "Trainable params: 101,760\n",
      "Non-trainable params: 0\n",
      "_________________________________________________________________\n",
      "Model: \"decoder\"\n",
      "_________________________________________________________________\n",
      "Layer (type)                 Output Shape              Param #   \n",
      "=================================================================\n",
      "decoder_input (InputLayer)   [(None, 60, 1)]           0         \n",
      "_________________________________________________________________\n",
      "lstm_49 (LSTM)               (None, 60)                14880     \n",
      "_________________________________________________________________\n",
      "dense_16 (Dense)             (None, 360)               21960     \n",
      "_________________________________________________________________\n",
      "reshape_22 (Reshape)         (None, 360, 1)            0         \n",
      "=================================================================\n",
      "Total params: 36,840\n",
      "Trainable params: 36,840\n",
      "Non-trainable params: 0\n",
      "_________________________________________________________________\n",
      "Model: \"autoencoder\"\n",
      "_________________________________________________________________\n",
      "Layer (type)                 Output Shape              Param #   \n",
      "=================================================================\n",
      "input (InputLayer)           [(None, 360, 1)]          0         \n",
      "_________________________________________________________________\n",
      "encoder (Functional)         (None, 60, 1)             101760    \n",
      "_________________________________________________________________\n",
      "decoder (Functional)         (None, 360, 1)            36840     \n",
      "=================================================================\n",
      "Total params: 138,600\n",
      "Trainable params: 138,600\n",
      "Non-trainable params: 0\n",
      "_________________________________________________________________\n"
     ]
    }
   ],
   "source": [
    "# encoder_input = keras.Input(shape=(360, 1), name='input')\n",
    "# x = keras.layers.Dense(360, activation='relu')(encoder_input)\n",
    "# x = keras.layers.LSTM(180, return_sequences=False)(x)\n",
    "# encoder_output = keras.layers.RepeatVector(WINDOW_SIZE)(x)\n",
    "# encoder = keras.Model(encoder_input, encoder_output, name='encoder')\n",
    "# encoder.summary()\n",
    "\n",
    "# decoder_input = keras.Input(shape=(360, 180), name='decoder_input')\n",
    "# x = keras.layers.LSTM(180, return_sequences=True)(encoder_output)\n",
    "# x = keras.layers.Dense(360, activation='relu')(decoder_input)\n",
    "# decoder_output = keras.layers.TimeDistributed(keras.layers.Dense(1), name='output')(x)\n",
    "# decoder = keras.Model(decoder_input, decoder_output, name='decoder')\n",
    "# decoder.summary()\n",
    "\n",
    "# autoencoder = keras.Model(encoder_input, decoder(encoder(encoder_input)), name='autoencoder')\n",
    "# autoencoder.compile(loss='mse', optimizer='adam')\n",
    "# autoencoder.summary()\n",
    "\n",
    "encoder_input = keras.Input(shape=(WINDOW_SIZE, 1), name='input')\n",
    "# x = keras.layers.Flatten()(encoder_input)\n",
    "x = keras.layers.Dense(360, activation='tanh')(encoder_input)\n",
    "x = keras.layers.LSTM(60, return_sequences=False)(x)\n",
    "encoder_output = keras.layers.Reshape((60,1))(x)\n",
    "# encoder_output = keras.layers.LSTM(45, return_sequences=False)(x)\n",
    "\n",
    "encoder = keras.Model(encoder_input, encoder_output, name='encoder')\n",
    "encoder.summary()\n",
    "\n",
    "decoder_input = keras.layers.Input(shape=(60, 1), name='decoder_input')\n",
    "x = keras.layers.LSTM(60, return_sequences=False)(decoder_input)\n",
    "x = keras.layers.Dense(360)(x)\n",
    "decoder_output = keras.layers.Reshape((360, 1))(x)\n",
    "# x = keras.layers.LSTM(90, return_sequences=True)(x)\n",
    "# decoder_output = keras.layers.TimeDistributed(tf.keras.layers.Dense(1))(x)\n",
    "\n",
    "decoder = keras.Model(decoder_input, decoder_output, name='decoder')\n",
    "decoder.summary()\n",
    "\n",
    "opt = keras.optimizers.Adam(learning_rate=0.001, decay=1e-6)\n",
    "\n",
    "autoencoder = keras.Model(encoder_input, decoder(encoder(encoder_input)), name='autoencoder')\n",
    "autoencoder.summary()\n",
    "autoencoder.compile(loss='mse', optimizer=opt)"
   ]
  },
  {
   "cell_type": "code",
   "execution_count": 37,
   "id": "deba1202",
   "metadata": {},
   "outputs": [
    {
     "name": "stdout",
     "output_type": "stream",
     "text": [
      "Model: \"autoencoder\"\n",
      "_________________________________________________________________\n",
      "Layer (type)                 Output Shape              Param #   \n",
      "=================================================================\n",
      "input (InputLayer)           [(None, 360, 1)]          0         \n",
      "_________________________________________________________________\n",
      "encoder (Functional)         (None, 60, 1)             101760    \n",
      "_________________________________________________________________\n",
      "decoder (Functional)         (None, 360, 1)            36840     \n",
      "=================================================================\n",
      "Total params: 138,600\n",
      "Trainable params: 138,600\n",
      "Non-trainable params: 0\n",
      "_________________________________________________________________\n",
      "(42020, 722)\n",
      "42020/42020 [==============================] - 429s 10ms/step - loss: 0.0494\n"
     ]
    },
    {
     "data": {
      "text/plain": [
       "<tensorflow.python.keras.callbacks.History at 0x260ea2893d0>"
      ]
     },
     "execution_count": 37,
     "metadata": {},
     "output_type": "execute_result"
    }
   ],
   "source": [
    "autoencoder.summary()\n",
    "autoencoder.fit(generate_data(\"training_by_classes.csv\"), steps_per_epoch=42020, epochs=EPOCHS, shuffle=True)\n",
    "# for X, _ in generate_data(\"training_by_classes.csv\"):\n",
    "#     print(X.shape)\n",
    "#     autoencoder.fit(X, X)\n",
    "#     encoded = encoder.predict(X)\n",
    "#     print(encoded.shape)\n",
    "#     decoded = decoder.predict(encoded)\n",
    "#     print(decoded.shape)\n",
    "#     plt.plot(X.flatten(), label='Original')\n",
    "#     plt.plot(encoded[0,:,0], label='Encoded')\n",
    "#     plt.plot(decoded.flatten(), label='Decoded')\n",
    "#     plt.legend()\n",
    "#     plt.show()\n",
    "    "
   ]
  },
  {
   "cell_type": "code",
   "execution_count": 58,
   "id": "034647e0",
   "metadata": {},
   "outputs": [
    {
     "name": "stdout",
     "output_type": "stream",
     "text": [
      "(1, 81)\n",
      "(26996, 722)\n",
      "0.26036087\n",
      "0.25686723\n"
     ]
    }
   ],
   "source": [
    "abnormal_errors = np.array([])\n",
    "normal_errors = np.array([])\n",
    "for X, y in generate_data(\"testing_by_classes.csv\"):\n",
    "#     print(\"X\", X.shape)\n",
    "    encoded = encoder.predict(X)\n",
    "#         print(\"Encoder\", encoded.shape)\n",
    "    decoded = decoder.predict(encoded)\n",
    "#         print(\"Decoder\", decoded.shape)\n",
    "    error = keras.losses.mae(X.flatten(), decoded.flatten()).numpy()\n",
    "    if y != 'N':\n",
    "        if errors.shape[0] <= 0:\n",
    "            abnormal_errors = np.array([error]).reshape(-1, 1)\n",
    "        else:\n",
    "            abnormal_errors = np.append(errors, np.array(error).reshape(-1, 1), axis=1)\n",
    "    else:\n",
    "        if errors.shape[0] <= 0:\n",
    "            normal_errors = np.array([error]).reshape(-1, 1)\n",
    "        else:\n",
    "            normal_errors = np.append(errors, np.array(error).reshape(-1, 1), axis=1)\n",
    "print(np.mean(abnormal_errors))\n",
    "print(np.mean(normal_errors))\n",
    "#     plt.plot(X.flatten(), label='Original')\n",
    "#     plt.plot(encoded.flatten(), label='Encoded')\n",
    "#     plt.plot(decoded.flatten(), label='Decoded')\n",
    "#     plt.title(y+\": \"+str(error))\n",
    "#     plt.legend()\n",
    "#     plt.show()"
   ]
  },
  {
   "cell_type": "code",
   "execution_count": 59,
   "id": "0e829fde",
   "metadata": {},
   "outputs": [
    {
     "name": "stdout",
     "output_type": "stream",
     "text": [
      "0.1676401\n",
      "0.16765527\n"
     ]
    }
   ],
   "source": [
    "print(np.std(abnormal_errors))\n",
    "print(np.std(normal_errors))"
   ]
  },
  {
   "cell_type": "code",
   "execution_count": null,
   "id": "1bdc989f",
   "metadata": {},
   "outputs": [],
   "source": []
  }
 ],
 "metadata": {
  "kernelspec": {
   "display_name": "Python 3",
   "language": "python",
   "name": "python3"
  },
  "language_info": {
   "codemirror_mode": {
    "name": "ipython",
    "version": 3
   },
   "file_extension": ".py",
   "mimetype": "text/x-python",
   "name": "python",
   "nbconvert_exporter": "python",
   "pygments_lexer": "ipython3",
   "version": "3.8.9"
  }
 },
 "nbformat": 4,
 "nbformat_minor": 5
}
